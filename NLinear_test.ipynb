{
  "cells": [
    {
      "cell_type": "code",
      "execution_count": 1,
      "metadata": {
        "colab": {
          "base_uri": "https://localhost:8080/"
        },
        "id": "J4t-ojljX6r2",
        "outputId": "a8ff1b66-5f53-405e-a49d-d8393b72ee1e"
      },
      "outputs": [
        {
          "name": "stdout",
          "output_type": "stream",
          "text": [
            "Drive already mounted at /content/drive; to attempt to forcibly remount, call drive.mount(\"/content/drive\", force_remount=True).\n"
          ]
        }
      ],
      "source": [
        "from google.colab import drive\n",
        "drive.mount('/content/drive')\n",
        "import torch\n",
        "import torch.nn as nn\n",
        "import torch.optim as optim\n",
        "from torch.utils.data import Dataset, DataLoader\n",
        "\n",
        "import numpy as np\n",
        "import pandas as pd\n",
        "from sklearn.metrics import mean_absolute_error\n",
        "from sklearn.preprocessing import MinMaxScaler, StandardScaler\n",
        "import matplotlib.pyplot as plt\n",
        "from google.colab import files"
      ]
    },
    {
      "cell_type": "code",
      "execution_count": 3,
      "metadata": {
        "id": "o1kK6NfNYhwn"
      },
      "outputs": [],
      "source": [
        "# Test dataset 전처리\n",
        "#uploaded = files.upload()\n",
        "test = pd.read_csv('data_ts_city.csv', header=None, skiprows=1, names=['date', 'value'])\n",
        "test['date'] = pd.to_datetime(test['date'])\n",
        "test.set_index('date', inplace=True)\n",
        "test_data = torch.as_tensor(test.values).to(torch.float32)"
      ]
    },
    {
      "cell_type": "code",
      "execution_count": 4,
      "metadata": {
        "id": "rLkGISqeYrt1"
      },
      "outputs": [],
      "source": [
        "class NLinear(torch.nn.Module):\n",
        "    def __init__(self, window_size, forcast_size, individual, feature_size):\n",
        "        super(NLinear, self).__init__()\n",
        "        self.window_size = window_size\n",
        "        self.forcast_size = forcast_size\n",
        "        self.individual = individual\n",
        "        self.channels = feature_size\n",
        "        if self.individual:\n",
        "            self.Linear = torch.nn.ModuleList()\n",
        "            for i in range(self.channels):\n",
        "                self.Linear.append(torch.nn.Linear(self.window_size, self.forcast_size))\n",
        "        else:\n",
        "          \n",
        "            self.Linear = torch.nn.Linear(self.window_size, self.forcast_size)\n",
        "\n",
        "    def forward(self, x):\n",
        "        seq_last = x[:,-1:,:].detach()\n",
        "        x = x - seq_last\n",
        "        if self.individual:\n",
        "            output = torch.zeros([x.size(0), self.forcast_size, x.size(2)],dtype=x.dtype).to(x.device)\n",
        "            for i in range(self.channels):\n",
        "                output[:,:,i] = self.Linear[i](x[:,:,i])\n",
        "            x = output\n",
        "        else:\n",
        "            x = self.Linear(x.permute(0,2,1)).permute(0,2,1)\n",
        "        x = x + seq_last\n",
        "        return x"
      ]
    },
    {
      "cell_type": "code",
      "execution_count": 5,
      "metadata": {
        "id": "D2RQMQHpYtnG"
      },
      "outputs": [],
      "source": [
        "class TimeSeriesDataset(Dataset):\n",
        "    def __init__(self, data, window_size, forecasting_size):\n",
        "        self.data = data\n",
        "        self.window_size = window_size\n",
        "        self.forecasting_size = forecasting_size\n",
        "\n",
        "    def __len__(self):\n",
        "        return len(self.data) - self.window_size - self.forecasting_size + 1\n",
        "\n",
        "    def __getitem__(self, idx):\n",
        "        window_start = idx\n",
        "        window_end = idx + self.window_size\n",
        "        forecast_start = window_end\n",
        "        forecast_end = window_end + self.forecasting_size\n",
        "\n",
        "        window_data = self.data[window_start:window_end]\n",
        "        forecast_data = self.data[forecast_start:forecast_end]\n",
        "\n",
        "        return window_data, forecast_data"
      ]
    },
    {
      "cell_type": "code",
      "execution_count": 6,
      "metadata": {
        "id": "rWzYEuiqYyXl"
      },
      "outputs": [],
      "source": [
        "window_size = 192\n",
        "forecasting_size = 24\n",
        "model = NLinear(window_size, forecasting_size, False, 1)\n",
        "model = torch.load('/content/drive/MyDrive/model.pt')"
      ]
    },
    {
      "cell_type": "code",
      "execution_count": 7,
      "metadata": {
        "id": "zFLYx3QeY2Gw"
      },
      "outputs": [],
      "source": [
        "device = 'cpu'"
      ]
    },
    {
      "cell_type": "code",
      "execution_count": 8,
      "metadata": {
        "id": "Vb-VL0hpY3ZR"
      },
      "outputs": [],
      "source": [
        "criterion = nn.L1Loss()"
      ]
    },
    {
      "cell_type": "code",
      "execution_count": 9,
      "metadata": {
        "colab": {
          "base_uri": "https://localhost:8080/"
        },
        "id": "9Ia8OgUdt75W",
        "outputId": "eb685c84-7681-44ae-f747-badd39537339"
      },
      "outputs": [
        {
          "name": "stdout",
          "output_type": "stream",
          "text": [
            "테스트 손실: 91.31149620532932\n"
          ]
        }
      ],
      "source": [
        "# 테스트 데이터셋 생성\n",
        "test_dataset = TimeSeriesDataset(test_data, window_size, forecasting_size)\n",
        "test_dataloader = DataLoader(test_dataset, batch_size=1, shuffle=False)\n",
        "\n",
        "# 평가 모드로 전환\n",
        "model.eval()\n",
        "\n",
        "# 평가를 위한 손실 초기화\n",
        "test_loss = 0.0\n",
        "\n",
        "# 예측 결과 저장을 위한 리스트\n",
        "predictions = []\n",
        "\n",
        "# 테스트 루프\n",
        "with torch.no_grad():\n",
        "    for window_data, forecast_data in test_dataloader:\n",
        "\n",
        "        # 데이터를 GPU로 이동\n",
        "        window_data = window_data.to(device)\n",
        "        forecast_data = forecast_data.to(device)\n",
        "\n",
        "        # 모델 순전파\n",
        "        outputs = model(window_data)\n",
        "\n",
        "        # 손실 계산\n",
        "        loss = criterion(outputs, forecast_data)\n",
        "\n",
        "        # 손실 누적\n",
        "        test_loss += loss.item()\n",
        "\n",
        "        # 예측 결과 저장\n",
        "        predictions.append(outputs.detach().cpu().numpy())\n",
        "\n",
        "# 최종 테스트 손실 출력\n",
        "print(\"테스트 손실:\", test_loss / len(test_dataloader))   "
      ]
    },
    {
      "cell_type": "code",
      "execution_count": 10,
      "metadata": {
        "colab": {
          "base_uri": "https://localhost:8080/",
          "height": 466
        },
        "id": "FzFx2gDxCCd0",
        "outputId": "91d7edf1-421f-4314-8036-3da764d91105"
      },
      "outputs": [
        {
          "name": "stdout",
          "output_type": "stream",
          "text": [
            "(8209, 24) torch.Size([1, 24, 1])\n",
            "테스트 손실: 91.31149620532932\n"
          ]
        },
        {
          "data": {
            "image/png": "[encoded data removed]",
            "text/plain": [
              "<Figure size 640x480 with 1 Axes>"
            ]
          },
          "metadata": {},
          "output_type": "display_data"
        }
      ],
      "source": [
        "# Evaluate the model and get predictions\n",
        "model.eval()\n",
        "predictions = []\n",
        "test_loss = 0.0\n",
        "\n",
        "\n",
        "with torch.no_grad():\n",
        "    for window_data, forecast_data in test_dataloader:\n",
        "        window_data = window_data.to(device)\n",
        "        forecast_data = forecast_data.to(device)\n",
        "\n",
        "        outputs = model(window_data)\n",
        "        loss = criterion(outputs, forecast_data)\n",
        "        test_loss += loss.item()\n",
        "\n",
        "        # Add the predictions to the list\n",
        "        predictions.append(outputs.squeeze().detach().cpu().numpy())\n",
        "\n",
        "if len(predictions) == 0:\n",
        "    print(\"No predictions were made.\")\n",
        "else:\n",
        "    # Concatenate predictions array and reshape to 2D\n",
        "    test_outputs = np.array(predictions)\n",
        "    # test_outputs = test_outputs.squeeze()\n",
        "    forecast_data = forecast_data.cpu()\n",
        "    print(test_outputs.shape, forecast_data.shape)\n",
        "    print(\"테스트 손실:\", test_loss / len(test_dataloader))\n",
        "    plt.plot(predictions[0], label=\"Predictions\", color='red')\n",
        "    plt.plot(forecast_data[0], label=\"Actual\")\n",
        "    plt.show()\n"
      ]
    }
  ],
  "metadata": {
    "accelerator": "GPU",
    "colab": {
      "gpuType": "T4",
      "provenance": []
    },
    "kernelspec": {
      "display_name": "Python 3",
      "name": "python3"
    },
    "language_info": {
      "name": "python"
    }
  },
  "nbformat": 4,
  "nbformat_minor": 0
}
